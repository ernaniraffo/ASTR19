{
 "cells": [
  {
   "cell_type": "markdown",
   "id": "14fd5619",
   "metadata": {},
   "source": [
    "## Tables in Python"
   ]
  },
  {
   "cell_type": "markdown",
   "id": "5c573142",
   "metadata": {},
   "source": [
    "How to print data tables with `tabulate` and `astropy`."
   ]
  },
  {
   "cell_type": "code",
   "execution_count": 9,
   "id": "0cf0f4ea",
   "metadata": {
    "ExecuteTime": {
     "end_time": "2024-01-25T20:56:37.997986Z",
     "start_time": "2024-01-25T20:56:37.994557Z"
    }
   },
   "outputs": [],
   "source": [
    "import numpy as np\n",
    "from tabulate import tabulate\n",
    "from astropy.table import Table"
   ]
  },
  {
   "cell_type": "code",
   "execution_count": 10,
   "id": "bf88c784",
   "metadata": {
    "ExecuteTime": {
     "end_time": "2024-01-25T20:56:38.044912Z",
     "start_time": "2024-01-25T20:56:38.000050Z"
    }
   },
   "outputs": [],
   "source": [
    "# Generate an array of x and y values\n",
    "x = np.linspace(-2.0, 2.0, 10) # generate ten points between -2 and +2\n",
    "y = 1.0 / (1.0 + x**2)"
   ]
  },
  {
   "cell_type": "markdown",
   "id": "ee11df58",
   "metadata": {},
   "source": [
    "### Table using tabulate"
   ]
  },
  {
   "cell_type": "code",
   "execution_count": 11,
   "id": "bf359de2",
   "metadata": {
    "ExecuteTime": {
     "end_time": "2024-01-25T20:56:38.045512Z",
     "start_time": "2024-01-25T20:56:38.031842Z"
    }
   },
   "outputs": [
    {
     "name": "stdout",
     "output_type": "stream",
     "text": [
      "╭────────┬───────╮\n",
      "│      x │     y │\n",
      "├────────┼───────┤\n",
      "│ -2.000 │ 0.200 │\n",
      "├────────┼───────┤\n",
      "│ -1.556 │ 0.292 │\n",
      "├────────┼───────┤\n",
      "│ -1.111 │ 0.448 │\n",
      "├────────┼───────┤\n",
      "│ -0.667 │ 0.692 │\n",
      "├────────┼───────┤\n",
      "│ -0.222 │ 0.953 │\n",
      "├────────┼───────┤\n",
      "│  0.222 │ 0.953 │\n",
      "├────────┼───────┤\n",
      "│  0.667 │ 0.692 │\n",
      "├────────┼───────┤\n",
      "│  1.111 │ 0.448 │\n",
      "├────────┼───────┤\n",
      "│  1.556 │ 0.292 │\n",
      "├────────┼───────┤\n",
      "│  2.000 │ 0.200 │\n",
      "╰────────┴───────╯\n"
     ]
    }
   ],
   "source": [
    "# Create a list of tuples containing x and y values\n",
    "table_data = [(a, b) for a, b in zip(x, y)]\n",
    "\n",
    "# Print the table using tabulate\n",
    "table_headers = ['x', 'y']\n",
    "print(tabulate(table_data, table_headers, tablefmt='rounded_grid', floatfmt='.3f'))"
   ]
  },
  {
   "cell_type": "markdown",
   "id": "9e152576",
   "metadata": {},
   "source": [
    "### Table using `astropy`"
   ]
  },
  {
   "cell_type": "code",
   "execution_count": 12,
   "id": "b1362d72",
   "metadata": {
    "ExecuteTime": {
     "end_time": "2024-01-25T20:56:38.045752Z",
     "start_time": "2024-01-25T20:56:38.032087Z"
    }
   },
   "outputs": [
    {
     "name": "stdout",
     "output_type": "stream",
     "text": [
      "  x      y  \n",
      "------ -----\n",
      "-2.000 0.200\n",
      "-1.556 0.292\n",
      "-1.111 0.448\n",
      "-0.667 0.692\n",
      "-0.222 0.953\n",
      " 0.222 0.953\n",
      " 0.667 0.692\n",
      " 1.111 0.448\n",
      " 1.556 0.292\n",
      " 2.000 0.200\n"
     ]
    }
   ],
   "source": [
    "# Create Table\n",
    "t = Table()\n",
    "t['x'] = x # make axis with the key 'x' and values from the array x\n",
    "t['y'] = y # make axis with the key 'y' and values from the array y\n",
    "t['x'].format, t['y'].format = \"{:.3f}\", \"{:.3f}\"\n",
    "print(t)"
   ]
  },
  {
   "cell_type": "code",
   "execution_count": 43,
   "id": "406de9a2",
   "metadata": {
    "ExecuteTime": {
     "end_time": "2024-01-25T20:57:06.744217Z",
     "start_time": "2024-01-25T20:57:06.741073Z"
    },
    "scrolled": false
   },
   "outputs": [
    {
     "data": {
      "text/html": [
       "<i>Table length=10</i>\n",
       "<table id=\"table4858754128-46440\" class=\"table-striped table-bordered table-condensed\">\n",
       "<thead><tr><th>idx</th><th>x</th><th>y</th></tr></thead>\n",
       "<tr><td>0</td><td>-2.000</td><td>0.200</td></tr>\n",
       "<tr><td>1</td><td>-1.556</td><td>0.292</td></tr>\n",
       "<tr><td>2</td><td>-1.111</td><td>0.448</td></tr>\n",
       "<tr><td>3</td><td>-0.667</td><td>0.692</td></tr>\n",
       "<tr><td>4</td><td>-0.222</td><td>0.953</td></tr>\n",
       "<tr><td>5</td><td>0.222</td><td>0.953</td></tr>\n",
       "<tr><td>6</td><td>0.667</td><td>0.692</td></tr>\n",
       "<tr><td>7</td><td>1.111</td><td>0.448</td></tr>\n",
       "<tr><td>8</td><td>1.556</td><td>0.292</td></tr>\n",
       "<tr><td>9</td><td>2.000</td><td>0.200</td></tr>\n",
       "</table><style>table.dataTable {clear: both; width: auto !important; margin: 0 !important;}\n",
       ".dataTables_info, .dataTables_length, .dataTables_filter, .dataTables_paginate{\n",
       "display: inline-block; margin-right: 1em; }\n",
       ".paginate_button { margin-right: 5px; }\n",
       "</style>\n",
       "<script>\n",
       "\n",
       "var astropy_sort_num = function(a, b) {\n",
       "    var a_num = parseFloat(a);\n",
       "    var b_num = parseFloat(b);\n",
       "\n",
       "    if (isNaN(a_num) && isNaN(b_num))\n",
       "        return ((a < b) ? -1 : ((a > b) ? 1 : 0));\n",
       "    else if (!isNaN(a_num) && !isNaN(b_num))\n",
       "        return ((a_num < b_num) ? -1 : ((a_num > b_num) ? 1 : 0));\n",
       "    else\n",
       "        return isNaN(a_num) ? -1 : 1;\n",
       "}\n",
       "\n",
       "require.config({paths: {\n",
       "    datatables: 'https://cdn.datatables.net/1.10.12/js/jquery.dataTables.min'\n",
       "}});\n",
       "require([\"datatables\"], function(){\n",
       "    console.log(\"$('#table4858754128-46440').dataTable()\");\n",
       "    \n",
       "jQuery.extend( jQuery.fn.dataTableExt.oSort, {\n",
       "    \"optionalnum-asc\": astropy_sort_num,\n",
       "    \"optionalnum-desc\": function (a,b) { return -astropy_sort_num(a, b); }\n",
       "});\n",
       "\n",
       "    $('#table4858754128-46440').dataTable({\n",
       "        order: [],\n",
       "        pageLength: 50,\n",
       "        lengthMenu: [[10, 25, 50, 100, 500, 1000, -1], [10, 25, 50, 100, 500, 1000, 'All']],\n",
       "        pagingType: \"full_numbers\",\n",
       "        columnDefs: [{targets: [0, 1, 2], type: \"optionalnum\"}]\n",
       "    });\n",
       "});\n",
       "</script>\n"
      ],
      "text/plain": [
       "<IPython.core.display.HTML object>"
      ]
     },
     "execution_count": 43,
     "metadata": {},
     "output_type": "execute_result"
    }
   ],
   "source": [
    "# Astropy Table using Jupyter Notebook capabilities\n",
    "t.show_in_notebook()"
   ]
  },
  {
   "cell_type": "code",
   "execution_count": 45,
   "id": "bd6362cb",
   "metadata": {
    "ExecuteTime": {
     "end_time": "2024-01-25T20:58:31.281085Z",
     "start_time": "2024-01-25T20:58:31.277594Z"
    }
   },
   "outputs": [],
   "source": [
    "from astropy.io import ascii\n",
    "\n",
    "ascii.write(t, 'table.txt', format='commented_header', overwrite=True)"
   ]
  },
  {
   "cell_type": "code",
   "execution_count": 46,
   "id": "6f92995f1f551168",
   "metadata": {},
   "outputs": [
    {
     "name": "stdout",
     "output_type": "stream",
     "text": [
      "  x      y  \n",
      "------ -----\n",
      "  -2.0   0.2\n",
      "-1.556 0.292\n",
      "-1.111 0.448\n",
      "-0.667 0.692\n",
      "-0.222 0.953\n",
      " 0.222 0.953\n",
      " 0.667 0.692\n",
      " 1.111 0.448\n",
      " 1.556 0.292\n",
      "   2.0   0.2\n"
     ]
    }
   ],
   "source": [
    "data_ascii = ascii.read('table.txt') # read the data in a new table\n",
    "print(data_ascii)"
   ]
  },
  {
   "cell_type": "markdown",
   "id": "05409e91",
   "metadata": {},
   "source": [
    "### Read and Write in file using numpy"
   ]
  },
  {
   "cell_type": "code",
   "execution_count": 47,
   "id": "8f23fa19",
   "metadata": {},
   "outputs": [],
   "source": [
    "np.savetxt('table_numpy.txt', t) # write data to file"
   ]
  },
  {
   "cell_type": "code",
   "execution_count": 48,
   "id": "bd6d608c",
   "metadata": {},
   "outputs": [],
   "source": [
    "data_numpy = np.loadtxt('table_numpy.txt')"
   ]
  },
  {
   "cell_type": "code",
   "execution_count": 49,
   "id": "aa5ac02e",
   "metadata": {},
   "outputs": [
    {
     "name": "stdout",
     "output_type": "stream",
     "text": [
      "[[-2.          0.2       ]\n",
      " [-1.55555556  0.29241877]\n",
      " [-1.11111111  0.44751381]\n",
      " [-0.66666667  0.69230769]\n",
      " [-0.22222222  0.95294118]\n",
      " [ 0.22222222  0.95294118]\n",
      " [ 0.66666667  0.69230769]\n",
      " [ 1.11111111  0.44751381]\n",
      " [ 1.55555556  0.29241877]\n",
      " [ 2.          0.2       ]]\n"
     ]
    }
   ],
   "source": [
    "print(data_numpy)"
   ]
  },
  {
   "cell_type": "code",
   "execution_count": 58,
   "id": "323141fc",
   "metadata": {
    "scrolled": true
   },
   "outputs": [
    {
     "name": "stdout",
     "output_type": "stream",
     "text": [
      "[[-2.         -1.55555556 -1.11111111 -0.66666667 -0.22222222  0.22222222\n",
      "   0.66666667  1.11111111  1.55555556  2.        ]\n",
      " [ 0.2         0.29241877  0.44751381  0.69230769  0.95294118  0.95294118\n",
      "   0.69230769  0.44751381  0.29241877  0.2       ]]\n"
     ]
    }
   ],
   "source": [
    "data_unpack = np.loadtxt('table_numpy.txt', unpack=True)\n",
    "print(data_unpack)"
   ]
  }
 ],
 "metadata": {
  "kernelspec": {
   "display_name": "Python 3 (ipykernel)",
   "language": "python",
   "name": "python3"
  },
  "language_info": {
   "codemirror_mode": {
    "name": "ipython",
    "version": 3
   },
   "file_extension": ".py",
   "mimetype": "text/x-python",
   "name": "python",
   "nbconvert_exporter": "python",
   "pygments_lexer": "ipython3",
   "version": "3.11.1"
  }
 },
 "nbformat": 4,
 "nbformat_minor": 5
}
