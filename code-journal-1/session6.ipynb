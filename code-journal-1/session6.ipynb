{
 "cells": [
  {
   "cell_type": "markdown",
   "id": "fc99f769-8093-4d84-bbea-40556ade1943",
   "metadata": {},
   "source": [
    "## Astropy Tables"
   ]
  },
  {
   "cell_type": "markdown",
   "id": "d7da8934-4e1f-43aa-8c2e-454a594fea2a",
   "metadata": {},
   "source": [
    "Using `numpy` and `astropy`, we will create functions calculating `sin(x)` and `cos(x)`, and print out a table of our results."
   ]
  },
  {
   "cell_type": "code",
   "execution_count": 2,
   "id": "2bbd8709-1cd4-4530-ad16-49a3722048a2",
   "metadata": {},
   "outputs": [],
   "source": [
    "import numpy as np"
   ]
  },
  {
   "cell_type": "markdown",
   "id": "bd9925aa-21c2-48ee-aace-5940ca7c3a17",
   "metadata": {},
   "source": [
    "### Implementations of `sin(x)` and `cos(x)`"
   ]
  },
  {
   "cell_type": "code",
   "execution_count": 3,
   "id": "3e2fab53-2fb9-4a50-921e-af00831fa28a",
   "metadata": {},
   "outputs": [],
   "source": [
    "def sin(x):\n",
    "    \"\"\"Return sin(x) using numpy\"\"\"\n",
    "    return np.sin(x)"
   ]
  },
  {
   "cell_type": "code",
   "execution_count": 4,
   "id": "60475da1-7464-421e-bc31-0160b8692660",
   "metadata": {},
   "outputs": [],
   "source": [
    "def cos(x):\n",
    "    \"\"\"Return cos(x) using numpy\"\"\"\n",
    "    return np.cos(x)"
   ]
  },
  {
   "cell_type": "markdown",
   "id": "efdc3454-0015-4d61-81d7-f292be7f898b",
   "metadata": {},
   "source": [
    "### Generating values `x`"
   ]
  },
  {
   "cell_type": "code",
   "execution_count": 5,
   "id": "81ccb2d7-1d99-448d-8b67-fd0684bfd3d6",
   "metadata": {},
   "outputs": [],
   "source": [
    "x = np.linspace(0, 2 * np.pi, 1000) # 1000 entries from 0 to 2π "
   ]
  },
  {
   "cell_type": "markdown",
   "id": "9f010acb-0795-4e1a-a2ef-1aff1867c631",
   "metadata": {},
   "source": [
    "### Creating the table using the `astropy` module\n",
    "Now that we have values of `x`, we can create a table showing `x`, `sin(x)`, and `cos(x)`."
   ]
  },
  {
   "cell_type": "code",
   "execution_count": 12,
   "id": "c12139da-a044-4097-8b3d-69163a5aa654",
   "metadata": {},
   "outputs": [],
   "source": [
    "from astropy.table import Table"
   ]
  },
  {
   "cell_type": "code",
   "execution_count": 18,
   "id": "23077abd-9ca3-4656-8922-4febdeea3aa7",
   "metadata": {
    "scrolled": true
   },
   "outputs": [],
   "source": [
    "t = Table() # Create an empty table\n",
    "\n",
    "# Create columns with values\n",
    "t['x'] = x\n",
    "t['sin(x)'] = sin(x)\n",
    "t['cos(x)'] = cos(x)\n",
    "\n",
    "# Floating point formatting\n",
    "t['x'].format = '{:.3f}'\n",
    "t['sin(x)'].format = '{:.3f}'\n",
    "t['cos(x)'].format = '{:.3f}'"
   ]
  },
  {
   "cell_type": "markdown",
   "id": "e6b1c169-3af2-42ef-b980-538387e5b52f",
   "metadata": {},
   "source": [
    "Finally, we print out the first 10 values of our table."
   ]
  },
  {
   "cell_type": "code",
   "execution_count": 19,
   "id": "62336d5e-39a8-41d0-9cc9-3469dad8db30",
   "metadata": {},
   "outputs": [
    {
     "name": "stdout",
     "output_type": "stream",
     "text": [
      "  x   sin(x) cos(x)\n",
      "----- ------ ------\n",
      "0.000  0.000  1.000\n",
      "\n",
      "  x   sin(x) cos(x)\n",
      "----- ------ ------\n",
      "0.006  0.006  1.000\n",
      "\n",
      "  x   sin(x) cos(x)\n",
      "----- ------ ------\n",
      "0.013  0.013  1.000\n",
      "\n",
      "  x   sin(x) cos(x)\n",
      "----- ------ ------\n",
      "0.019  0.019  1.000\n",
      "\n",
      "  x   sin(x) cos(x)\n",
      "----- ------ ------\n",
      "0.025  0.025  1.000\n",
      "\n",
      "  x   sin(x) cos(x)\n",
      "----- ------ ------\n",
      "0.031  0.031  1.000\n",
      "\n",
      "  x   sin(x) cos(x)\n",
      "----- ------ ------\n",
      "0.038  0.038  0.999\n",
      "\n",
      "  x   sin(x) cos(x)\n",
      "----- ------ ------\n",
      "0.044  0.044  0.999\n",
      "\n",
      "  x   sin(x) cos(x)\n",
      "----- ------ ------\n",
      "0.050  0.050  0.999\n",
      "\n",
      "  x   sin(x) cos(x)\n",
      "----- ------ ------\n",
      "0.057  0.057  0.998\n",
      "\n"
     ]
    }
   ],
   "source": [
    "for i in range(10):\n",
    "    print(t[i])\n",
    "    print()"
   ]
  }
 ],
 "metadata": {
  "kernelspec": {
   "display_name": "Python 3 (ipykernel)",
   "language": "python",
   "name": "python3"
  },
  "language_info": {
   "codemirror_mode": {
    "name": "ipython",
    "version": 3
   },
   "file_extension": ".py",
   "mimetype": "text/x-python",
   "name": "python",
   "nbconvert_exporter": "python",
   "pygments_lexer": "ipython3",
   "version": "3.12.1"
  }
 },
 "nbformat": 4,
 "nbformat_minor": 5
}
